{
 "cells": [
  {
   "cell_type": "markdown",
   "id": "1f8814a3",
   "metadata": {},
   "source": [
    "# Amazon Web Scraping Using Python"
   ]
  },
  {
   "cell_type": "code",
   "execution_count": 1,
   "id": "95142e08",
   "metadata": {},
   "outputs": [],
   "source": [
    "# import libraries\n",
    "\n",
    "from bs4 import BeautifulSoup\n",
    "import requests\n",
    "import smtplib\n",
    "import time\n",
    "import datetime\n"
   ]
  },
  {
   "cell_type": "code",
   "execution_count": 8,
   "id": "d73a907d",
   "metadata": {},
   "outputs": [
    {
     "name": "stdout",
     "output_type": "stream",
     "text": [
      "\n",
      "                    Funny Got Data MIS Data Systems Business Analyst T-Shirt\n",
      "                   \n",
      "\n",
      "\n",
      "\n",
      "\n",
      "\n",
      "                   $16.99\n",
      "                  \n",
      "\n",
      "\n",
      "                    $\n",
      "                   \n",
      "\n",
      "                    16\n",
      "                    \n",
      "                     .\n",
      "                    \n",
      "\n",
      "\n",
      "                    99\n",
      "                   \n",
      "\n",
      "\n",
      "\n",
      "\n",
      "\n",
      "\n",
      "\n",
      "\n",
      "\n",
      "\n",
      "\n",
      "\n"
     ]
    }
   ],
   "source": [
    "# Connect to website\n",
    "\n",
    "URL = 'https://www.amazon.com/Funny-Data-Systems-Business-Analyst/dp/B07FNW9FGJ/ref=sr_1_3?dchild=1&keywords=data%2Banalyst%2Btshirt&qid=1626655184&sr=8-3&customId=B0752XJYNL&th=1'\n",
    "\n",
    "# get from httpbin.org/get\n",
    "headers = {\"User-Agent\": \"Mozilla/5.0 (Windows NT 10.0; Win64; x64) AppleWebKit/537.36 (KHTML, like Gecko) Chrome/78.0.3904.108 Safari/537.36\", \"Accept-Encoding\":\"gzip, deflate\", \"Accept\":\"text/html,application/xhtml+xml,application/xml;q=0.9,*/*;q=0.8\", \"DNT\":\"1\",\"Connection\":\"close\", \"Upgrade-Insecure-Requests\":\"1\"}\n",
    "\n",
    "page = requests.get(URL, headers=headers)\n",
    "\n",
    "soup1 = BeautifulSoup(page.content, 'html.parser')\n",
    "\n",
    "soup2 = BeautifulSoup(soup1.prettify(), 'html.parser')\n",
    "\n",
    "title = soup2.find(id='productTitle').get_text()\n",
    "\n",
    "price = soup2.find(id='corePriceDisplay_desktop_feature_div').get_text()\n",
    "\n",
    "print(title)\n",
    "print(price)\n",
    "\n",
    "#print(soup2)"
   ]
  },
  {
   "cell_type": "code",
   "execution_count": 10,
   "id": "3d8c4376",
   "metadata": {},
   "outputs": [
    {
     "name": "stdout",
     "output_type": "stream",
     "text": [
      "Funny Got Data MIS Data Systems Business Analyst T-Shirt\n"
     ]
    },
    {
     "data": {
      "text/plain": [
       "str"
      ]
     },
     "execution_count": 10,
     "metadata": {},
     "output_type": "execute_result"
    }
   ],
   "source": [
    "#price = price.strip()[1:6]\n",
    "title = title.strip()\n",
    "\n",
    "print(title)\n",
    "#print(price)\n",
    "type(price)"
   ]
  },
  {
   "cell_type": "code",
   "execution_count": 19,
   "id": "3f25fa39",
   "metadata": {},
   "outputs": [
    {
     "name": "stdout",
     "output_type": "stream",
     "text": [
      "2023-07-20\n"
     ]
    }
   ],
   "source": [
    "#get the datetime data\n",
    "today = datetime.date.today()\n",
    "\n",
    "print(today)"
   ]
  },
  {
   "cell_type": "code",
   "execution_count": 20,
   "id": "a1dd583f",
   "metadata": {},
   "outputs": [],
   "source": [
    "import csv\n",
    "\n",
    "header = ['Title', 'Price', 'Date']\n",
    "data = [title, price, today]\n",
    "\n",
    "#with works with open() to open the file and with statement closes the file without telling. 'w' = write, 'newline' = insert data to new line without space\n",
    "#with open('AmazonWebScraperDataset.csv', 'w', newline='', encoding='UTF8') as f:\n",
    "    #writer = csv.writer(f)\n",
    "    #writer.writerow(header) #the initial insert the data to csv\n",
    "    #writer.writerow(data)"
   ]
  },
  {
   "cell_type": "code",
   "execution_count": 26,
   "id": "0853925e",
   "metadata": {},
   "outputs": [
    {
     "name": "stdout",
     "output_type": "stream",
     "text": [
      "                                               Title  Price        Date\n",
      "0  Funny Got Data MIS Data Systems Business Analy...  16.99  2023-07-20\n",
      "1  Funny Got Data MIS Data Systems Business Analy...  16.99  2023-07-20\n",
      "2  Funny Got Data MIS Data Systems Business Analy...  16.99  2023-07-20\n",
      "3  Funny Got Data MIS Data Systems Business Analy...  16.99  2023-07-20\n",
      "4  Funny Got Data MIS Data Systems Business Analy...  16.99  2023-07-20\n"
     ]
    }
   ],
   "source": [
    "import pandas as pd\n",
    "\n",
    "df = pd.read_csv(r'C:\\Users\\lenovo\\AmazonWebScraperDataset.csv')\n",
    "\n",
    "print(df)"
   ]
  },
  {
   "cell_type": "code",
   "execution_count": 25,
   "id": "5c4bed23",
   "metadata": {},
   "outputs": [],
   "source": [
    "#Append data to csv, \n",
    "#'a+' = append the data\n",
    "\n",
    "with open('AmazonWebScraperDataset.csv', 'a+', newline='', encoding='UTF8') as f:\n",
    "    writer = csv.writer(f)\n",
    "    writer.writerow(data)"
   ]
  },
  {
   "cell_type": "code",
   "execution_count": 28,
   "id": "c627eac0",
   "metadata": {},
   "outputs": [],
   "source": [
    "def check_price():\n",
    "    URL = 'https://www.amazon.com/Funny-Data-Systems-Business-Analyst/dp/B07FNW9FGJ/ref=sr_1_3?dchild=1&keywords=data%2Banalyst%2Btshirt&qid=1626655184&sr=8-3&customId=B0752XJYNL&th=1'\n",
    "\n",
    "    headers = {\"User-Agent\": \"Mozilla/5.0 (Windows NT 10.0; Win64; x64) AppleWebKit/537.36 (KHTML, like Gecko) Chrome/78.0.3904.108 Safari/537.36\", \"Accept-Encoding\":\"gzip, deflate\", \"Accept\":\"text/html,application/xhtml+xml,application/xml;q=0.9,*/*;q=0.8\", \"DNT\":\"1\",\"Connection\":\"close\", \"Upgrade-Insecure-Requests\":\"1\"}\n",
    "\n",
    "    page = requests.get(URL, headers=headers)\n",
    "\n",
    "    soup1 = BeautifulSoup(page.content, 'html.parser')\n",
    "\n",
    "    soup2 = BeautifulSoup(soup1.prettify(), 'html.parser')\n",
    "\n",
    "    title = soup2.find(id='productTitle').get_text()\n",
    "\n",
    "    price = soup2.find(id='corePriceDisplay_desktop_feature_div').get_text()\n",
    "\n",
    "    price = price.strip()[1:6]\n",
    "    title = title.strip()\n",
    "    \n",
    "    import datetime\n",
    "    \n",
    "    today = datetime.date.today()\n",
    "    \n",
    "    import csv\n",
    "\n",
    "    header = ['Title', 'Price', 'Date']\n",
    "    data = [title, price, today]\n",
    "    \n",
    "    with open('AmazonWebScraperDataset.csv', 'a+', newline='', encoding='UTF8') as f:\n",
    "        writer = csv.writer(f)\n",
    "        writer.writerow(data)\n",
    "        \n",
    "    #if(price < 14):\n",
    "        #send_Mail()"
   ]
  },
  {
   "cell_type": "code",
   "execution_count": 32,
   "id": "dc726a2a",
   "metadata": {},
   "outputs": [
    {
     "ename": "KeyboardInterrupt",
     "evalue": "",
     "output_type": "error",
     "traceback": [
      "\u001b[1;31m---------------------------------------------------------------------------\u001b[0m",
      "\u001b[1;31mKeyboardInterrupt\u001b[0m                         Traceback (most recent call last)",
      "Cell \u001b[1;32mIn[32], line 4\u001b[0m\n\u001b[0;32m      2\u001b[0m \u001b[38;5;28;01mwhile\u001b[39;00m(\u001b[38;5;28;01mTrue\u001b[39;00m):\n\u001b[0;32m      3\u001b[0m     check_price()\n\u001b[1;32m----> 4\u001b[0m     \u001b[43mtime\u001b[49m\u001b[38;5;241;43m.\u001b[39;49m\u001b[43msleep\u001b[49m\u001b[43m(\u001b[49m\u001b[38;5;241;43m5\u001b[39;49m\u001b[43m)\u001b[49m \u001b[38;5;66;03m#set time in seconds to run through the process #86,400 sec = 1 day\u001b[39;00m\n",
      "\u001b[1;31mKeyboardInterrupt\u001b[0m: "
     ]
    }
   ],
   "source": [
    "#input timer to check such as once a day\n",
    "while(True):\n",
    "    check_price()\n",
    "    time.sleep(5) #set time in seconds to run through the process #86,400 sec = 1 day"
   ]
  },
  {
   "cell_type": "code",
   "execution_count": 34,
   "id": "6c1e50b0",
   "metadata": {},
   "outputs": [
    {
     "name": "stdout",
     "output_type": "stream",
     "text": [
      "                                               Title  Price        Date\n",
      "0  Funny Got Data MIS Data Systems Business Analy...  16.99  2023-07-20\n",
      "1  Funny Got Data MIS Data Systems Business Analy...  16.99  2023-07-20\n",
      "2  Funny Got Data MIS Data Systems Business Analy...  16.99  2023-07-20\n",
      "3  Funny Got Data MIS Data Systems Business Analy...  16.99  2023-07-20\n",
      "4  Funny Got Data MIS Data Systems Business Analy...  16.99  2023-07-20\n",
      "5  Funny Got Data MIS Data Systems Business Analy...  16.99  2023-07-20\n",
      "6  Funny Got Data MIS Data Systems Business Analy...  16.99  2023-07-20\n",
      "7  Funny Got Data MIS Data Systems Business Analy...  16.99  2023-07-20\n",
      "8  Funny Got Data MIS Data Systems Business Analy...  16.99  2023-07-20\n"
     ]
    }
   ],
   "source": [
    "import pandas as pd\n",
    "\n",
    "df = pd.read_csv(r'C:\\Users\\lenovo\\AmazonWebScraperDataset.csv')\n",
    "\n",
    "print(df)"
   ]
  },
  {
   "cell_type": "code",
   "execution_count": null,
   "id": "2d78759f",
   "metadata": {},
   "outputs": [],
   "source": [
    "# If uou want to try sending yourself an email (just for fun) when a price hits below a certain level you can try it\n",
    "# out with this script\n",
    "\n",
    "#def send_mail():\n",
    "    #server = smtplib.SMTP_SSL('smtp.gmail.com',465)\n",
    "    #server.ehlo()\n",
    "    ##server.starttls()\n",
    "    #server.ehlo()\n",
    "    #server.login('apichard.saeaung@gmail.com','xxxxxxxxxxxxxx') #Email and password\n",
    "    \n",
    "    #subject = \"The Shirt you want is below $15! Now is your chance to buy!\"\n",
    "    #body = \"Alex, This is the moment we have been waiting for. Now is your chance to pick up the shirt of your dreams. Don't mess it up! Link here: https://www.amazon.com/Funny-Data-Systems-Business-Analyst/dp/B07FNW9FGJ/ref=sr_1_3?dchild=1&keywords=data+analyst+tshirt&qid=1626655184&sr=8-3\"\n",
    "   \n",
    "    #msg = f\"Subject: {subject}\\n\\n{body}\"\n",
    "    \n",
    "    #server.sendmail(\n",
    "        #'apichard.saeaung@gmail.com',\n",
    "        #msg\n",
    "     \n",
    "    #)"
   ]
  }
 ],
 "metadata": {
  "kernelspec": {
   "display_name": "Python 3 (ipykernel)",
   "language": "python",
   "name": "python3"
  },
  "language_info": {
   "codemirror_mode": {
    "name": "ipython",
    "version": 3
   },
   "file_extension": ".py",
   "mimetype": "text/x-python",
   "name": "python",
   "nbconvert_exporter": "python",
   "pygments_lexer": "ipython3",
   "version": "3.11.2"
  }
 },
 "nbformat": 4,
 "nbformat_minor": 5
}
